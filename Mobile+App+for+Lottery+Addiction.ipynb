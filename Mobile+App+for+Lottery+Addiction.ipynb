{
 "cells": [
  {
   "cell_type": "markdown",
   "metadata": {},
   "source": [
    "# An Application for Lottery Addiction\n",
    "\n",
    "We've been tasked to help contribute to the development of a mobile app that is meant to help lottery addicts better estimate their chances of winning.\n",
    "\n",
    "Many people start playing the lottery for fun, but for some this activity turns into a habit which eventually escalates into addiction. Like other compulsive gamblers, lottery addicts soon begin spending from their savings and loans, they start to accumulate debts, and eventually engage in desperate behaviors like theft.\n",
    "\n",
    "A medical institute that aims to prevent and treat gambling addictions wants to build a dedicated mobile app to help lottery addicts better estimate their chances of winning. The institute has a team of engineers that will build the app, but they need us to create the logical core of the app and calculate probabilities.\n",
    "\n",
    "For the first version of the app, they want us to focus on the 6/49 lottery and build functions that enable users to answer questions like:\n",
    "\n",
    "- What is the probability of winning the big prize with a single ticket?\n",
    "- What is the probability of winning the big prize if we play 40 different tickets (or any other number)?\n",
    "- What is the probability of having at least five (or four, or three, or two) winning numbers on a single ticket?\n",
    "\n",
    "The institute also wants us to consider historical data coming from the national 6/49 lottery game in Canada. The data set has data for 3,665 drawings, dating from 1982 to 2018.\n",
    "\n",
    "Our goal here is to enable users to answer probability questions about playing the lottery.\n",
    "\n"
   ]
  },
  {
   "cell_type": "markdown",
   "metadata": {},
   "source": [
    "## The Core Functions\n",
    "\n",
    "We plan on using a couple of equations pretty often if calculating the odds of drawing a set of numbers at random. The first equation will deal with calculating factorials, and the second will deal with calculating combinations."
   ]
  },
  {
   "cell_type": "markdown",
   "metadata": {},
   "source": [
    "\\begin{equation}\n",
    "n! = n \\times (n - 1) \\times (n - 2) \\times ... \\times 2 \\times 1\n",
    "\\end{equation}"
   ]
  },
  {
   "cell_type": "code",
   "execution_count": 1,
   "metadata": {
    "collapsed": true
   },
   "outputs": [],
   "source": [
    "#function calculates factorials\n",
    "def factorial(n):\n",
    "    fact = 1\n",
    "    for i in range(n, 0, -1):\n",
    "        fact*=i\n",
    "    return fact"
   ]
  },
  {
   "cell_type": "markdown",
   "metadata": {},
   "source": [
    "\\begin{equation}\n",
    "_nC_k = {n \\choose k} =  \\frac{n!}{k!(n-k)!}\n",
    "\\end{equation}"
   ]
  },
  {
   "cell_type": "code",
   "execution_count": 2,
   "metadata": {
    "collapsed": true
   },
   "outputs": [],
   "source": [
    "#fucntion that calculates combinations\n",
    "def combinations(n,k):\n",
    "    numerator = factorial(n)\n",
    "    denomenator = factorial(k)*(factorial(n-k))\n",
    "    return numerator/denomenator"
   ]
  },
  {
   "cell_type": "markdown",
   "metadata": {},
   "source": [
    "## One-ticket Probability\n",
    "\n",
    "Now that we've developed the two core functions we will repeatedly utilize moving forward, it's time to we focus on writing a function that calculates the probability of winning the \"big prize\".\n",
    "\n",
    "To quickly summarize the mechanics of the 6/49 lottery...\n",
    "- Six numbers are drawn from a set of 49 numbers that range from 1 to 49\n",
    "- A player wins the \"big prize\" if all of their six numbers match those drawn\n",
    "- If a single number does not match, the player doesn't win the \"big prize\"\n",
    "\n",
    "For the first version of this app, we're looking to empower would-be players by helping calculate the probability of winning the big prize with various number they play on a single ticket.\n",
    "\n",
    "We'll start building the function that calculates the probability of winning the big prize for any given ticket."
   ]
  },
  {
   "cell_type": "code",
   "execution_count": 3,
   "metadata": {
    "collapsed": false
   },
   "outputs": [],
   "source": [
    "# function takes in a list of six unique numbers and prints the probability of winning\n",
    "def one_ticket_probability(list_numbers):\n",
    "    possible_outcomes = combinations(49,6)\n",
    "    probability = 1/possible_outcomes\n",
    "    print(\"The likelylihood that {0} will result in a winning ticket is about {1:.10%}. Or, in other words, you have 1 chance out of {2:,} of winning the big prize.\"\n",
    "          .format(str(list_numbers),probability*100, int(possible_outcomes)))"
   ]
  },
  {
   "cell_type": "code",
   "execution_count": 4,
   "metadata": {
    "collapsed": false
   },
   "outputs": [
    {
     "name": "stdout",
     "output_type": "stream",
     "text": [
      "The likelylihood that [1, 2, 3, 4, 5, 6] will result in a winning ticket is about 0.0007151124%. Or, in other words, you have 1 chance out of 13,983,816 of winning the big prize.\n"
     ]
    }
   ],
   "source": [
    "one_ticket_probability([1,2,3,4,5,6])"
   ]
  },
  {
   "cell_type": "markdown",
   "metadata": {},
   "source": [
    "It should be easy to see that the combination of unique numbers doesn't effect the likelihood of winning.\n",
    "\n",
    "But would be interesting is helping the user forcast what they *could* have won if using the same set of numbers in a previous drawing.\n",
    "\n",
    "## Historical Data Check for Canada Lottery\n",
    "\n",
    "With access to the historical dataset of the Canada Lottery available to us, we can help the user better realize the odds of them winning past lottery drawings.\n",
    "\n",
    "The Canada 6/49 lottery dataset we plan on exploring houses historical data for 3,665 past drawings dating back from 1982 to 2018.\n",
    "\n",
    "Let's explore the dataset a bit."
   ]
  },
  {
   "cell_type": "code",
   "execution_count": 5,
   "metadata": {
    "collapsed": true
   },
   "outputs": [],
   "source": [
    "import pandas as pd\n",
    "lottery = pd.read_csv('649.csv')"
   ]
  },
  {
   "cell_type": "code",
   "execution_count": 6,
   "metadata": {
    "collapsed": false
   },
   "outputs": [
    {
     "data": {
      "text/html": [
       "<div>\n",
       "<style scoped>\n",
       "    .dataframe tbody tr th:only-of-type {\n",
       "        vertical-align: middle;\n",
       "    }\n",
       "\n",
       "    .dataframe tbody tr th {\n",
       "        vertical-align: top;\n",
       "    }\n",
       "\n",
       "    .dataframe thead th {\n",
       "        text-align: right;\n",
       "    }\n",
       "</style>\n",
       "<table border=\"1\" class=\"dataframe\">\n",
       "  <thead>\n",
       "    <tr style=\"text-align: right;\">\n",
       "      <th></th>\n",
       "      <th>PRODUCT</th>\n",
       "      <th>DRAW NUMBER</th>\n",
       "      <th>SEQUENCE NUMBER</th>\n",
       "      <th>DRAW DATE</th>\n",
       "      <th>NUMBER DRAWN 1</th>\n",
       "      <th>NUMBER DRAWN 2</th>\n",
       "      <th>NUMBER DRAWN 3</th>\n",
       "      <th>NUMBER DRAWN 4</th>\n",
       "      <th>NUMBER DRAWN 5</th>\n",
       "      <th>NUMBER DRAWN 6</th>\n",
       "      <th>BONUS NUMBER</th>\n",
       "    </tr>\n",
       "  </thead>\n",
       "  <tbody>\n",
       "    <tr>\n",
       "      <th>0</th>\n",
       "      <td>649</td>\n",
       "      <td>1</td>\n",
       "      <td>0</td>\n",
       "      <td>6/12/1982</td>\n",
       "      <td>3</td>\n",
       "      <td>11</td>\n",
       "      <td>12</td>\n",
       "      <td>14</td>\n",
       "      <td>41</td>\n",
       "      <td>43</td>\n",
       "      <td>13</td>\n",
       "    </tr>\n",
       "    <tr>\n",
       "      <th>1</th>\n",
       "      <td>649</td>\n",
       "      <td>2</td>\n",
       "      <td>0</td>\n",
       "      <td>6/19/1982</td>\n",
       "      <td>8</td>\n",
       "      <td>33</td>\n",
       "      <td>36</td>\n",
       "      <td>37</td>\n",
       "      <td>39</td>\n",
       "      <td>41</td>\n",
       "      <td>9</td>\n",
       "    </tr>\n",
       "    <tr>\n",
       "      <th>2</th>\n",
       "      <td>649</td>\n",
       "      <td>3</td>\n",
       "      <td>0</td>\n",
       "      <td>6/26/1982</td>\n",
       "      <td>1</td>\n",
       "      <td>6</td>\n",
       "      <td>23</td>\n",
       "      <td>24</td>\n",
       "      <td>27</td>\n",
       "      <td>39</td>\n",
       "      <td>34</td>\n",
       "    </tr>\n",
       "    <tr>\n",
       "      <th>3</th>\n",
       "      <td>649</td>\n",
       "      <td>4</td>\n",
       "      <td>0</td>\n",
       "      <td>7/3/1982</td>\n",
       "      <td>3</td>\n",
       "      <td>9</td>\n",
       "      <td>10</td>\n",
       "      <td>13</td>\n",
       "      <td>20</td>\n",
       "      <td>43</td>\n",
       "      <td>34</td>\n",
       "    </tr>\n",
       "    <tr>\n",
       "      <th>4</th>\n",
       "      <td>649</td>\n",
       "      <td>5</td>\n",
       "      <td>0</td>\n",
       "      <td>7/10/1982</td>\n",
       "      <td>5</td>\n",
       "      <td>14</td>\n",
       "      <td>21</td>\n",
       "      <td>31</td>\n",
       "      <td>34</td>\n",
       "      <td>47</td>\n",
       "      <td>45</td>\n",
       "    </tr>\n",
       "  </tbody>\n",
       "</table>\n",
       "</div>"
      ],
      "text/plain": [
       "   PRODUCT  DRAW NUMBER  SEQUENCE NUMBER  DRAW DATE  NUMBER DRAWN 1  \\\n",
       "0      649            1                0  6/12/1982               3   \n",
       "1      649            2                0  6/19/1982               8   \n",
       "2      649            3                0  6/26/1982               1   \n",
       "3      649            4                0   7/3/1982               3   \n",
       "4      649            5                0  7/10/1982               5   \n",
       "\n",
       "   NUMBER DRAWN 2  NUMBER DRAWN 3  NUMBER DRAWN 4  NUMBER DRAWN 5  \\\n",
       "0              11              12              14              41   \n",
       "1              33              36              37              39   \n",
       "2               6              23              24              27   \n",
       "3               9              10              13              20   \n",
       "4              14              21              31              34   \n",
       "\n",
       "   NUMBER DRAWN 6  BONUS NUMBER  \n",
       "0              43            13  \n",
       "1              41             9  \n",
       "2              39            34  \n",
       "3              43            34  \n",
       "4              47            45  "
      ]
     },
     "execution_count": 6,
     "metadata": {},
     "output_type": "execute_result"
    }
   ],
   "source": [
    "lottery.head()"
   ]
  },
  {
   "cell_type": "code",
   "execution_count": 7,
   "metadata": {
    "collapsed": false
   },
   "outputs": [
    {
     "data": {
      "text/html": [
       "<div>\n",
       "<style scoped>\n",
       "    .dataframe tbody tr th:only-of-type {\n",
       "        vertical-align: middle;\n",
       "    }\n",
       "\n",
       "    .dataframe tbody tr th {\n",
       "        vertical-align: top;\n",
       "    }\n",
       "\n",
       "    .dataframe thead th {\n",
       "        text-align: right;\n",
       "    }\n",
       "</style>\n",
       "<table border=\"1\" class=\"dataframe\">\n",
       "  <thead>\n",
       "    <tr style=\"text-align: right;\">\n",
       "      <th></th>\n",
       "      <th>PRODUCT</th>\n",
       "      <th>DRAW NUMBER</th>\n",
       "      <th>SEQUENCE NUMBER</th>\n",
       "      <th>DRAW DATE</th>\n",
       "      <th>NUMBER DRAWN 1</th>\n",
       "      <th>NUMBER DRAWN 2</th>\n",
       "      <th>NUMBER DRAWN 3</th>\n",
       "      <th>NUMBER DRAWN 4</th>\n",
       "      <th>NUMBER DRAWN 5</th>\n",
       "      <th>NUMBER DRAWN 6</th>\n",
       "      <th>BONUS NUMBER</th>\n",
       "    </tr>\n",
       "  </thead>\n",
       "  <tbody>\n",
       "    <tr>\n",
       "      <th>3660</th>\n",
       "      <td>649</td>\n",
       "      <td>3587</td>\n",
       "      <td>0</td>\n",
       "      <td>6/6/2018</td>\n",
       "      <td>10</td>\n",
       "      <td>15</td>\n",
       "      <td>23</td>\n",
       "      <td>38</td>\n",
       "      <td>40</td>\n",
       "      <td>41</td>\n",
       "      <td>35</td>\n",
       "    </tr>\n",
       "    <tr>\n",
       "      <th>3661</th>\n",
       "      <td>649</td>\n",
       "      <td>3588</td>\n",
       "      <td>0</td>\n",
       "      <td>6/9/2018</td>\n",
       "      <td>19</td>\n",
       "      <td>25</td>\n",
       "      <td>31</td>\n",
       "      <td>36</td>\n",
       "      <td>46</td>\n",
       "      <td>47</td>\n",
       "      <td>26</td>\n",
       "    </tr>\n",
       "    <tr>\n",
       "      <th>3662</th>\n",
       "      <td>649</td>\n",
       "      <td>3589</td>\n",
       "      <td>0</td>\n",
       "      <td>6/13/2018</td>\n",
       "      <td>6</td>\n",
       "      <td>22</td>\n",
       "      <td>24</td>\n",
       "      <td>31</td>\n",
       "      <td>32</td>\n",
       "      <td>34</td>\n",
       "      <td>16</td>\n",
       "    </tr>\n",
       "    <tr>\n",
       "      <th>3663</th>\n",
       "      <td>649</td>\n",
       "      <td>3590</td>\n",
       "      <td>0</td>\n",
       "      <td>6/16/2018</td>\n",
       "      <td>2</td>\n",
       "      <td>15</td>\n",
       "      <td>21</td>\n",
       "      <td>31</td>\n",
       "      <td>38</td>\n",
       "      <td>49</td>\n",
       "      <td>8</td>\n",
       "    </tr>\n",
       "    <tr>\n",
       "      <th>3664</th>\n",
       "      <td>649</td>\n",
       "      <td>3591</td>\n",
       "      <td>0</td>\n",
       "      <td>6/20/2018</td>\n",
       "      <td>14</td>\n",
       "      <td>24</td>\n",
       "      <td>31</td>\n",
       "      <td>35</td>\n",
       "      <td>37</td>\n",
       "      <td>48</td>\n",
       "      <td>17</td>\n",
       "    </tr>\n",
       "  </tbody>\n",
       "</table>\n",
       "</div>"
      ],
      "text/plain": [
       "      PRODUCT  DRAW NUMBER  SEQUENCE NUMBER  DRAW DATE  NUMBER DRAWN 1  \\\n",
       "3660      649         3587                0   6/6/2018              10   \n",
       "3661      649         3588                0   6/9/2018              19   \n",
       "3662      649         3589                0  6/13/2018               6   \n",
       "3663      649         3590                0  6/16/2018               2   \n",
       "3664      649         3591                0  6/20/2018              14   \n",
       "\n",
       "      NUMBER DRAWN 2  NUMBER DRAWN 3  NUMBER DRAWN 4  NUMBER DRAWN 5  \\\n",
       "3660              15              23              38              40   \n",
       "3661              25              31              36              46   \n",
       "3662              22              24              31              32   \n",
       "3663              15              21              31              38   \n",
       "3664              24              31              35              37   \n",
       "\n",
       "      NUMBER DRAWN 6  BONUS NUMBER  \n",
       "3660              41            35  \n",
       "3661              47            26  \n",
       "3662              34            16  \n",
       "3663              49             8  \n",
       "3664              48            17  "
      ]
     },
     "execution_count": 7,
     "metadata": {},
     "output_type": "execute_result"
    }
   ],
   "source": [
    "lottery.tail()"
   ]
  },
  {
   "cell_type": "code",
   "execution_count": 8,
   "metadata": {
    "collapsed": false
   },
   "outputs": [
    {
     "data": {
      "text/plain": [
       "(3665, 11)"
      ]
     },
     "execution_count": 8,
     "metadata": {},
     "output_type": "execute_result"
    }
   ],
   "source": [
    "lottery.shape"
   ]
  },
  {
   "cell_type": "code",
   "execution_count": 9,
   "metadata": {
    "collapsed": false,
    "scrolled": true
   },
   "outputs": [
    {
     "name": "stdout",
     "output_type": "stream",
     "text": [
      "<class 'pandas.core.frame.DataFrame'>\n",
      "RangeIndex: 3665 entries, 0 to 3664\n",
      "Data columns (total 11 columns):\n",
      "PRODUCT            3665 non-null int64\n",
      "DRAW NUMBER        3665 non-null int64\n",
      "SEQUENCE NUMBER    3665 non-null int64\n",
      "DRAW DATE          3665 non-null object\n",
      "NUMBER DRAWN 1     3665 non-null int64\n",
      "NUMBER DRAWN 2     3665 non-null int64\n",
      "NUMBER DRAWN 3     3665 non-null int64\n",
      "NUMBER DRAWN 4     3665 non-null int64\n",
      "NUMBER DRAWN 5     3665 non-null int64\n",
      "NUMBER DRAWN 6     3665 non-null int64\n",
      "BONUS NUMBER       3665 non-null int64\n",
      "dtypes: int64(10), object(1)\n",
      "memory usage: 315.0+ KB\n"
     ]
    }
   ],
   "source": [
    "lottery.info()"
   ]
  },
  {
   "cell_type": "markdown",
   "metadata": {},
   "source": [
    "It looks like the dataset is clean with no non-null entries to account for. \n",
    "\n",
    "There's a total of 3,665 rows with 11 columns.\n",
    "\n",
    "`PRODUCT` seems to correspond with the name of the drawing itself, the \"649\" lottery.\n",
    "\n",
    "It isn't at all clear what the `SEQUENCE NUMBER` entries entail seeing that they are all just zeros. \n",
    "\n",
    "The `DRAWN DATE` is self-explanatory. And the bonus number is mechanism utilized in other similar lottery number drawing games that increases the payout if the player happens to hit all the other numbers. \n",
    "\n",
    "The columns we're most interested are\n",
    "\n",
    "1. NUMBER DRAWN 1\n",
    "2. NUMBER DRAWN 2\n",
    "3. NUMBER DRAWN 3\n",
    "4. NUMBER DRAWN 4\n",
    "5. NUMBER DRAWN 5\n",
    "6. NUMBER DRAWN 6\n",
    "\n",
    "With these six columns in mind, we'll be able to let users compare their ticket against the historical lottery data in Canada and determine whether they would have ever won by now.\n",
    "\n",
    "The engineering team behind the development of this app has told us that we need to be aware of the following details:\n",
    "\n",
    "- Inside the app, the user inputs six different numbers from 1 to 49.\n",
    "- Under the hood, the six numbers will come as a Python list and serve as an input to our function.\n",
    "- The engineering team wants us to write a function that prints:\n",
    "    - the number of times the combination selected occurred in the Canada data set; and\n",
    "    - the probability of winning the big prize in the next drawing with that combination."
   ]
  },
  {
   "cell_type": "code",
   "execution_count": 10,
   "metadata": {
    "collapsed": true
   },
   "outputs": [],
   "source": [
    "# function takes in row of lottery dataframe as input and returns a set containing the six winning numbers\n",
    "def extract_numbers(row):\n",
    "    row = row[4:10]\n",
    "    winning_numbers = set(row)\n",
    "    return winning_numbers"
   ]
  },
  {
   "cell_type": "code",
   "execution_count": 11,
   "metadata": {
    "collapsed": false
   },
   "outputs": [],
   "source": [
    "winning_numbers = lottery.apply(extract_numbers, axis=1)"
   ]
  },
  {
   "cell_type": "code",
   "execution_count": 12,
   "metadata": {
    "collapsed": false
   },
   "outputs": [
    {
     "data": {
      "text/plain": [
       "0     {3, 41, 11, 12, 43, 14}\n",
       "1     {33, 36, 37, 39, 8, 41}\n",
       "2      {1, 6, 39, 23, 24, 27}\n",
       "3      {3, 9, 10, 43, 13, 20}\n",
       "4     {34, 5, 14, 47, 21, 31}\n",
       "5     {8, 41, 20, 21, 25, 31}\n",
       "6    {33, 36, 42, 18, 25, 28}\n",
       "7     {7, 40, 16, 17, 48, 31}\n",
       "8     {5, 38, 37, 10, 23, 27}\n",
       "9     {4, 37, 46, 15, 48, 30}\n",
       "dtype: object"
      ]
     },
     "execution_count": 12,
     "metadata": {},
     "output_type": "execute_result"
    }
   ],
   "source": [
    "winning_numbers.head(10)"
   ]
  },
  {
   "cell_type": "code",
   "execution_count": 13,
   "metadata": {
    "collapsed": true
   },
   "outputs": [],
   "source": [
    "#function takes two inputs, a list containing user numbers and pandas Series containing sets with the winning numbers\n",
    "def check_historical_occurence(user_nums_list, winning_nums_set):\n",
    "    user_nums_set = set(user_nums_list)\n",
    "    occurence_check = winning_nums_set == user_nums_set\n",
    "    num_occurences = occurence_check.sum()\n",
    "    \n",
    "    if num_occurences == 0:\n",
    "        print(\n",
    "        '''\n",
    "        The combination {} has never occured in past drawings.\n",
    "        The chances of this combination being drawn is is about 0.00072%. \n",
    "        In other words, you'll likely win once within 13,983,816 attempts.\n",
    "        '''.format(user_nums_list))\n",
    "        \n",
    "    else:\n",
    "        print(\n",
    "        '''\n",
    "        The combination {} has occured {} time(s) is past drawings.\n",
    "        The chances of this combination being drawn again is about 0.00072%.\n",
    "        In other words, you'll likely win once within 13,983,816 attempts.\n",
    "        '''.format(user_nums_list, num_occurences)\n",
    "        )"
   ]
  },
  {
   "cell_type": "code",
   "execution_count": 14,
   "metadata": {
    "collapsed": false
   },
   "outputs": [
    {
     "name": "stdout",
     "output_type": "stream",
     "text": [
      "\n",
      "        The combination [1, 2, 3, 4, 5, 6] has never occured in past drawings.\n",
      "        The chances of this combination being drawn is is about 0.00072%. \n",
      "        In other words, you'll likely win once within 13,983,816 attempts.\n",
      "        \n"
     ]
    }
   ],
   "source": [
    "#testing losing numbers\n",
    "user_inputs = [1,2,3,4,5,6]\n",
    "thing = check_historical_occurence(user_inputs, winning_numbers)"
   ]
  },
  {
   "cell_type": "code",
   "execution_count": 15,
   "metadata": {
    "collapsed": false
   },
   "outputs": [
    {
     "name": "stdout",
     "output_type": "stream",
     "text": [
      "\n",
      "        The combination [33, 36, 37, 39, 8, 41] has occured 1 time(s) is past drawings.\n",
      "        The chances of this combination being drawn again is about 0.00072%.\n",
      "        In other words, you'll likely win once within 13,983,816 attempts.\n",
      "        \n"
     ]
    }
   ],
   "source": [
    "#testing winning numbers\n",
    "user_inputs = [33, 36, 37, 39, 8, 41]\n",
    "thing = check_historical_occurence(user_inputs, winning_numbers)"
   ]
  },
  {
   "cell_type": "markdown",
   "metadata": {},
   "source": [
    "To summarize the results, regardless of whether the user's current selection of numbers hit in the past or not, the odds of winning remain the same.\n",
    "\n",
    "There's still only a 0.00072% chance of winning the big prize. In essence, past perfomance is not indicative of future success."
   ]
  },
  {
   "cell_type": "markdown",
   "metadata": {},
   "source": [
    "## Multi-ticket Probability\n",
    "\n",
    "There are those who play the lottery often that feel as though buying multiple tickets at once will increase their chances of winning any given drawing.\n",
    "\n",
    "We will move forward with designing a function that takes into account the number of tickets a user plans to buy and presents what the odds are of winning the big prize.\n",
    "\n",
    "The engineering team has the following notes for development of this feature:\n",
    "\n",
    "- The user will input the number of different tickets they want to play\n",
    "    - Without inputting the specific combinations they intend to play\n",
    "- The function is expected to see an integer between 1 and 13,983,816 (the maximum number of different tickets).\n",
    "- The function should print information about the probability of winning the big prize depending on the number of different tickets played.\n",
    "\n",
    "Let's begin writing the function."
   ]
  },
  {
   "cell_type": "code",
   "execution_count": 20,
   "metadata": {
    "collapsed": true
   },
   "outputs": [],
   "source": [
    "#function takes input from user on multiple tickets\n",
    "def multi_ticket_probability(num_tickets):\n",
    "    num_combinations = combinations(49,6)\n",
    "    probability = num_tickets/num_combinations\n",
    "    percentage = probability * 100\n",
    "    \n",
    "    if num_tickets == 1:\n",
    "        print('''Your chances to win the big prize with one ticket are {:.6f}%.\n",
    "In other words, you have a 1 in {:,} chances to win.'''.format(percentage, int(num_combinations)))\n",
    "    \n",
    "    else:\n",
    "        combinations_simplified = round(num_combinations / num_tickets)   \n",
    "        print('''Your chances to win the big prize with {:,} different tickets are {:.6f}%.\n",
    "In other words, you have a 1 in {:,} chances to win.'''.format(num_tickets, percentage,\n",
    "                                                               combinations_simplified))"
   ]
  },
  {
   "cell_type": "code",
   "execution_count": 21,
   "metadata": {
    "collapsed": false
   },
   "outputs": [
    {
     "name": "stdout",
     "output_type": "stream",
     "text": [
      "Your chances to win the big prize with one ticket are 0.000007%.\n",
      "In other words, you have a 1 in 13,983,816 chances to win.\n",
      "------------------------\n",
      "Your chances to win the big prize with 10 different tickets are 0.000072%.\n",
      "In other words, you have a 1 in 1,398,382 chances to win.\n",
      "------------------------\n",
      "Your chances to win the big prize with 100 different tickets are 0.000715%.\n",
      "In other words, you have a 1 in 139,838 chances to win.\n",
      "------------------------\n",
      "Your chances to win the big prize with 10,000 different tickets are 0.071511%.\n",
      "In other words, you have a 1 in 1,398 chances to win.\n",
      "------------------------\n",
      "Your chances to win the big prize with 1,000,000 different tickets are 7.151124%.\n",
      "In other words, you have a 1 in 14 chances to win.\n",
      "------------------------\n",
      "Your chances to win the big prize with 6,991,908 different tickets are 50.000000%.\n",
      "In other words, you have a 1 in 2 chances to win.\n",
      "------------------------\n",
      "Your chances to win the big prize with 13,983,816 different tickets are 100.000000%.\n",
      "In other words, you have a 1 in 1 chances to win.\n",
      "------------------------\n"
     ]
    }
   ],
   "source": [
    "test_inputs = [1, 10, 100, 10000, 1000000, 6991908, 13983816]\n",
    "\n",
    "for test_input in test_inputs:\n",
    "    multi_ticket_probability(test_input)\n",
    "    print('------------------------') # output delimiter"
   ]
  },
  {
   "cell_type": "markdown",
   "metadata": {},
   "source": [
    "Above, we can see the range of odds of winning the big prize from one ticket to 13,983,816 tickets.\n",
    "\n",
    "But what if the user also wanted to see probabilities for getting a certain fraction of the numbers correctly. Many of these kinds of lotteries not only have a big prize for getting *all* of the numbers in the drawing, but they also give out prizes for those who get two, three, four, or five of the winning numbers. \n",
    "\n",
    "In this respect, the engineering team has given the following notes:\n",
    "\n",
    "- Inside the app, the user inputs:\n",
    "    - six different numbers from 1 to 49; and\n",
    "    - an integer between 2 and 5 that represents the number of winning numbers expected\n",
    "- Our function prints information about the probability of having the inputted number of winning numbers.\n",
    "\n",
    "\n",
    "\n"
   ]
  },
  {
   "cell_type": "code",
   "execution_count": 47,
   "metadata": {
    "collapsed": false
   },
   "outputs": [],
   "source": [
    "#function takes in an integer between 2 and 5 and prints chances of winning\n",
    "def probability_less_6(nums):\n",
    "    num_combinations = combinations(6, nums)\n",
    "    num_combinations_remaining = combinations(43, 6-nums)\n",
    "    successful_outcomes = num_combinations * num_combinations_remaining\n",
    "\n",
    "    \n",
    "    total_combinations = combinations(49,6)  \n",
    "    probability = successful_outcomes/total_combinations \n",
    "    \n",
    "    percentage = probability * 100\n",
    "    combinations_simplified = round(total_combinations/successful_outcomes)\n",
    "\n",
    "    print( \n",
    "'''\n",
    "Your chances of getting exactly {} out of the 6 winning numbers are {:.4f}%.\n",
    "Or, in other words, your chances of gettting exactly {} out of the 6 winning numbers is 1 in {:,}.\n",
    "'''.format(nums,percentage,nums,combinations_simplified))"
   ]
  },
  {
   "cell_type": "code",
   "execution_count": 48,
   "metadata": {
    "collapsed": false
   },
   "outputs": [
    {
     "name": "stdout",
     "output_type": "stream",
     "text": [
      "\n",
      "Your chances of getting exactly 2 out of the 6 winning numbers are 13.2378%.\n",
      "Or, in other words, your chances of gettting exactly 2 out of the 6 winning numbers is 1 in 8.\n",
      "\n",
      "--------------------\n",
      "\n",
      "Your chances of getting exactly 3 out of the 6 winning numbers are 1.7650%.\n",
      "Or, in other words, your chances of gettting exactly 3 out of the 6 winning numbers is 1 in 57.\n",
      "\n",
      "--------------------\n",
      "\n",
      "Your chances of getting exactly 4 out of the 6 winning numbers are 0.0969%.\n",
      "Or, in other words, your chances of gettting exactly 4 out of the 6 winning numbers is 1 in 1,032.\n",
      "\n",
      "--------------------\n",
      "\n",
      "Your chances of getting exactly 5 out of the 6 winning numbers are 0.0018%.\n",
      "Or, in other words, your chances of gettting exactly 5 out of the 6 winning numbers is 1 in 54,201.\n",
      "\n",
      "--------------------\n"
     ]
    }
   ],
   "source": [
    "#testing outputs for 2,3,4,5\n",
    "possible_inputs = [2,3,4,5]\n",
    "\n",
    "for i in [2,3,4,5]:\n",
    "    probability_less_6(i)\n",
    "    print('-'*20)"
   ]
  },
  {
   "cell_type": "markdown",
   "metadata": {},
   "source": [
    "# Conclusion\n",
    "\n",
    "We've developed a few functions for our app that will help the user realize the odds of winning the lottery.\n",
    "\n",
    "- `one_ticket_probability()` — calculates the probability of winning the big prize with a single ticket\n",
    "- `check_historical_occurrence()` — checks whether a certain combination has occurred in the Canada lottery data set\n",
    "- `multi_ticket_probability()` — calculates the probability for any number of of tickets between 1 and 13,983,816\n",
    "- `probability_less_6()` — calculates the probability of having two, three, four or five winning numbers\n",
    "\n",
    "## Next Steps\n",
    "There are a few next steps in store for this project worth considering.\n",
    "\n",
    "- Coupling the odds of winning with funny and strange phenomenon\n",
    "    - Example: 100 times more likely to get struck by lightning than win the big prize\n",
    "- Condesning certain functions (`one_ticket_probability()`, `check_historical_occurrence()`)\n",
    "- Expanding the `probability_less_6()` function to include the chances of having *at least* two, three, four, or five winning numbers\n",
    "    - Internal Note:\n",
    "    - The number of successful outcomes for having at least four winning numbers is the sum of these three numbers:\n",
    "        - The number of successful outcomes for having four winning numbers exactly\n",
    "        - The number of successful outcomes for having five winning numbers exactly\n",
    "        - The number of successful outcomes for having six winning numbers exactly"
   ]
  },
  {
   "cell_type": "code",
   "execution_count": null,
   "metadata": {
    "collapsed": true
   },
   "outputs": [],
   "source": []
  }
 ],
 "metadata": {
  "kernelspec": {
   "display_name": "Python 3",
   "language": "python",
   "name": "python3"
  },
  "language_info": {
   "codemirror_mode": {
    "name": "ipython",
    "version": 3
   },
   "file_extension": ".py",
   "mimetype": "text/x-python",
   "name": "python",
   "nbconvert_exporter": "python",
   "pygments_lexer": "ipython3",
   "version": "3.4.3"
  }
 },
 "nbformat": 4,
 "nbformat_minor": 2
}
