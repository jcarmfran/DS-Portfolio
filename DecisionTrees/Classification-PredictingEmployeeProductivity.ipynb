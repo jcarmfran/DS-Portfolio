{
 "cells": [
  {
   "cell_type": "markdown",
   "metadata": {},
   "source": [
    "# Predicting Employee Productivity\n",
    "\n",
    "We plan on utilizing this dataset, transforming the productivity range (0-1) into different classes."
   ]
  },
  {
   "cell_type": "code",
   "execution_count": 1,
   "metadata": {},
   "outputs": [],
   "source": [
    "import pandas as pd\n",
    "import numpy as np\n",
    "import seaborn as sns\n",
    "import matplotlib.pyplot as plt"
   ]
  },
  {
   "cell_type": "code",
   "execution_count": 9,
   "metadata": {},
   "outputs": [
    {
     "data": {
      "text/html": [
       "<div>\n",
       "<style scoped>\n",
       "    .dataframe tbody tr th:only-of-type {\n",
       "        vertical-align: middle;\n",
       "    }\n",
       "\n",
       "    .dataframe tbody tr th {\n",
       "        vertical-align: top;\n",
       "    }\n",
       "\n",
       "    .dataframe thead th {\n",
       "        text-align: right;\n",
       "    }\n",
       "</style>\n",
       "<table border=\"1\" class=\"dataframe\">\n",
       "  <thead>\n",
       "    <tr style=\"text-align: right;\">\n",
       "      <th></th>\n",
       "      <th>date</th>\n",
       "      <th>quarter</th>\n",
       "      <th>department</th>\n",
       "      <th>day</th>\n",
       "      <th>team</th>\n",
       "      <th>targeted_productivity</th>\n",
       "      <th>smv</th>\n",
       "      <th>wip</th>\n",
       "      <th>over_time</th>\n",
       "      <th>incentive</th>\n",
       "      <th>idle_time</th>\n",
       "      <th>idle_men</th>\n",
       "      <th>no_of_style_change</th>\n",
       "      <th>no_of_workers</th>\n",
       "      <th>actual_productivity</th>\n",
       "    </tr>\n",
       "  </thead>\n",
       "  <tbody>\n",
       "    <tr>\n",
       "      <th>0</th>\n",
       "      <td>1/1/2015</td>\n",
       "      <td>Quarter1</td>\n",
       "      <td>sweing</td>\n",
       "      <td>Thursday</td>\n",
       "      <td>8</td>\n",
       "      <td>0.80</td>\n",
       "      <td>26.16</td>\n",
       "      <td>1108.0</td>\n",
       "      <td>7080</td>\n",
       "      <td>98</td>\n",
       "      <td>0.0</td>\n",
       "      <td>0</td>\n",
       "      <td>0</td>\n",
       "      <td>59.0</td>\n",
       "      <td>0.940725</td>\n",
       "    </tr>\n",
       "    <tr>\n",
       "      <th>1</th>\n",
       "      <td>1/1/2015</td>\n",
       "      <td>Quarter1</td>\n",
       "      <td>finishing</td>\n",
       "      <td>Thursday</td>\n",
       "      <td>1</td>\n",
       "      <td>0.75</td>\n",
       "      <td>3.94</td>\n",
       "      <td>NaN</td>\n",
       "      <td>960</td>\n",
       "      <td>0</td>\n",
       "      <td>0.0</td>\n",
       "      <td>0</td>\n",
       "      <td>0</td>\n",
       "      <td>8.0</td>\n",
       "      <td>0.886500</td>\n",
       "    </tr>\n",
       "    <tr>\n",
       "      <th>2</th>\n",
       "      <td>1/1/2015</td>\n",
       "      <td>Quarter1</td>\n",
       "      <td>sweing</td>\n",
       "      <td>Thursday</td>\n",
       "      <td>11</td>\n",
       "      <td>0.80</td>\n",
       "      <td>11.41</td>\n",
       "      <td>968.0</td>\n",
       "      <td>3660</td>\n",
       "      <td>50</td>\n",
       "      <td>0.0</td>\n",
       "      <td>0</td>\n",
       "      <td>0</td>\n",
       "      <td>30.5</td>\n",
       "      <td>0.800570</td>\n",
       "    </tr>\n",
       "    <tr>\n",
       "      <th>3</th>\n",
       "      <td>1/1/2015</td>\n",
       "      <td>Quarter1</td>\n",
       "      <td>sweing</td>\n",
       "      <td>Thursday</td>\n",
       "      <td>12</td>\n",
       "      <td>0.80</td>\n",
       "      <td>11.41</td>\n",
       "      <td>968.0</td>\n",
       "      <td>3660</td>\n",
       "      <td>50</td>\n",
       "      <td>0.0</td>\n",
       "      <td>0</td>\n",
       "      <td>0</td>\n",
       "      <td>30.5</td>\n",
       "      <td>0.800570</td>\n",
       "    </tr>\n",
       "    <tr>\n",
       "      <th>4</th>\n",
       "      <td>1/1/2015</td>\n",
       "      <td>Quarter1</td>\n",
       "      <td>sweing</td>\n",
       "      <td>Thursday</td>\n",
       "      <td>6</td>\n",
       "      <td>0.80</td>\n",
       "      <td>25.90</td>\n",
       "      <td>1170.0</td>\n",
       "      <td>1920</td>\n",
       "      <td>50</td>\n",
       "      <td>0.0</td>\n",
       "      <td>0</td>\n",
       "      <td>0</td>\n",
       "      <td>56.0</td>\n",
       "      <td>0.800382</td>\n",
       "    </tr>\n",
       "    <tr>\n",
       "      <th>5</th>\n",
       "      <td>1/1/2015</td>\n",
       "      <td>Quarter1</td>\n",
       "      <td>sweing</td>\n",
       "      <td>Thursday</td>\n",
       "      <td>7</td>\n",
       "      <td>0.80</td>\n",
       "      <td>25.90</td>\n",
       "      <td>984.0</td>\n",
       "      <td>6720</td>\n",
       "      <td>38</td>\n",
       "      <td>0.0</td>\n",
       "      <td>0</td>\n",
       "      <td>0</td>\n",
       "      <td>56.0</td>\n",
       "      <td>0.800125</td>\n",
       "    </tr>\n",
       "    <tr>\n",
       "      <th>6</th>\n",
       "      <td>1/1/2015</td>\n",
       "      <td>Quarter1</td>\n",
       "      <td>finishing</td>\n",
       "      <td>Thursday</td>\n",
       "      <td>2</td>\n",
       "      <td>0.75</td>\n",
       "      <td>3.94</td>\n",
       "      <td>NaN</td>\n",
       "      <td>960</td>\n",
       "      <td>0</td>\n",
       "      <td>0.0</td>\n",
       "      <td>0</td>\n",
       "      <td>0</td>\n",
       "      <td>8.0</td>\n",
       "      <td>0.755167</td>\n",
       "    </tr>\n",
       "    <tr>\n",
       "      <th>7</th>\n",
       "      <td>1/1/2015</td>\n",
       "      <td>Quarter1</td>\n",
       "      <td>sweing</td>\n",
       "      <td>Thursday</td>\n",
       "      <td>3</td>\n",
       "      <td>0.75</td>\n",
       "      <td>28.08</td>\n",
       "      <td>795.0</td>\n",
       "      <td>6900</td>\n",
       "      <td>45</td>\n",
       "      <td>0.0</td>\n",
       "      <td>0</td>\n",
       "      <td>0</td>\n",
       "      <td>57.5</td>\n",
       "      <td>0.753683</td>\n",
       "    </tr>\n",
       "    <tr>\n",
       "      <th>8</th>\n",
       "      <td>1/1/2015</td>\n",
       "      <td>Quarter1</td>\n",
       "      <td>sweing</td>\n",
       "      <td>Thursday</td>\n",
       "      <td>2</td>\n",
       "      <td>0.75</td>\n",
       "      <td>19.87</td>\n",
       "      <td>733.0</td>\n",
       "      <td>6000</td>\n",
       "      <td>34</td>\n",
       "      <td>0.0</td>\n",
       "      <td>0</td>\n",
       "      <td>0</td>\n",
       "      <td>55.0</td>\n",
       "      <td>0.753098</td>\n",
       "    </tr>\n",
       "    <tr>\n",
       "      <th>9</th>\n",
       "      <td>1/1/2015</td>\n",
       "      <td>Quarter1</td>\n",
       "      <td>sweing</td>\n",
       "      <td>Thursday</td>\n",
       "      <td>1</td>\n",
       "      <td>0.75</td>\n",
       "      <td>28.08</td>\n",
       "      <td>681.0</td>\n",
       "      <td>6900</td>\n",
       "      <td>45</td>\n",
       "      <td>0.0</td>\n",
       "      <td>0</td>\n",
       "      <td>0</td>\n",
       "      <td>57.5</td>\n",
       "      <td>0.750428</td>\n",
       "    </tr>\n",
       "  </tbody>\n",
       "</table>\n",
       "</div>"
      ],
      "text/plain": [
       "       date   quarter  department       day  team  targeted_productivity  \\\n",
       "0  1/1/2015  Quarter1      sweing  Thursday     8                   0.80   \n",
       "1  1/1/2015  Quarter1  finishing   Thursday     1                   0.75   \n",
       "2  1/1/2015  Quarter1      sweing  Thursday    11                   0.80   \n",
       "3  1/1/2015  Quarter1      sweing  Thursday    12                   0.80   \n",
       "4  1/1/2015  Quarter1      sweing  Thursday     6                   0.80   \n",
       "5  1/1/2015  Quarter1      sweing  Thursday     7                   0.80   \n",
       "6  1/1/2015  Quarter1  finishing   Thursday     2                   0.75   \n",
       "7  1/1/2015  Quarter1      sweing  Thursday     3                   0.75   \n",
       "8  1/1/2015  Quarter1      sweing  Thursday     2                   0.75   \n",
       "9  1/1/2015  Quarter1      sweing  Thursday     1                   0.75   \n",
       "\n",
       "     smv     wip  over_time  incentive  idle_time  idle_men  \\\n",
       "0  26.16  1108.0       7080         98        0.0         0   \n",
       "1   3.94     NaN        960          0        0.0         0   \n",
       "2  11.41   968.0       3660         50        0.0         0   \n",
       "3  11.41   968.0       3660         50        0.0         0   \n",
       "4  25.90  1170.0       1920         50        0.0         0   \n",
       "5  25.90   984.0       6720         38        0.0         0   \n",
       "6   3.94     NaN        960          0        0.0         0   \n",
       "7  28.08   795.0       6900         45        0.0         0   \n",
       "8  19.87   733.0       6000         34        0.0         0   \n",
       "9  28.08   681.0       6900         45        0.0         0   \n",
       "\n",
       "   no_of_style_change  no_of_workers  actual_productivity  \n",
       "0                   0           59.0             0.940725  \n",
       "1                   0            8.0             0.886500  \n",
       "2                   0           30.5             0.800570  \n",
       "3                   0           30.5             0.800570  \n",
       "4                   0           56.0             0.800382  \n",
       "5                   0           56.0             0.800125  \n",
       "6                   0            8.0             0.755167  \n",
       "7                   0           57.5             0.753683  \n",
       "8                   0           55.0             0.753098  \n",
       "9                   0           57.5             0.750428  "
      ]
     },
     "execution_count": 9,
     "metadata": {},
     "output_type": "execute_result"
    }
   ],
   "source": [
    "df = pd.read_csv('..\\Datasets\\garments_worker_productivity.csv') \n",
    "df.head(10)"
   ]
  },
  {
   "cell_type": "markdown",
   "metadata": {},
   "source": [
    "## Exploratory Data Analysis\n",
    "\n",
    "Let's get a better grasp of what exactly the dataset entails. As per the official documentation, the columns of the dataset:\n",
    "- `date`: date in MM-DD-YYYY\n",
    "- `quarter` : a portion of the month — month was divided into four quarters\n",
    "- `department`: associated department with the instance\n",
    "- `day`: day of the week\n",
    "- `team`: associated team number with the instance\n",
    "- `targeted_productivity`: targeted productivity set by the authority for each team for each day\n",
    "- `smv`: standard minute value — the allocated time for a task\n",
    "- `wip`: work in progress — includes the number of unfinished items for products\n",
    "- `over_time`: represents the amount of overtime by each team in minutes\n",
    "- `incentive`: represents the amount of financial incentive (in BDT) that enables or motivates a particular course of action\n",
    "- `idle_time`: the duration of time when the production was interrupted due to several reasons\n",
    "- `idle_men`: the number of workers who were idle due to production interruption\n",
    "- `no_of_style_change`: number of changes in the style of a particular product\n",
    "- `no_of_workers`: number of workers on each team\n",
    "- `actual_productivity`: the actual % of productivity that was delivered by the workers — it ranges from 0 to 1."
   ]
  },
  {
   "cell_type": "code",
   "execution_count": 32,
   "metadata": {},
   "outputs": [
    {
     "name": "stdout",
     "output_type": "stream",
     "text": [
      "Rows in dataset: 1197\n",
      "Columns in dataset: 15\n"
     ]
    }
   ],
   "source": [
    "#shape of the dataset\n",
    "print(f'Rows in dataset:',df.shape[0])\n",
    "print(f'Columns in dataset:',df.shape[1])"
   ]
  },
  {
   "cell_type": "code",
   "execution_count": 5,
   "metadata": {},
   "outputs": [
    {
     "name": "stdout",
     "output_type": "stream",
     "text": [
      "<class 'pandas.core.frame.DataFrame'>\n",
      "RangeIndex: 1197 entries, 0 to 1196\n",
      "Data columns (total 15 columns):\n",
      " #   Column                 Non-Null Count  Dtype  \n",
      "---  ------                 --------------  -----  \n",
      " 0   date                   1197 non-null   object \n",
      " 1   quarter                1197 non-null   object \n",
      " 2   department             1197 non-null   object \n",
      " 3   day                    1197 non-null   object \n",
      " 4   team                   1197 non-null   int64  \n",
      " 5   targeted_productivity  1197 non-null   float64\n",
      " 6   smv                    1197 non-null   float64\n",
      " 7   wip                    691 non-null    float64\n",
      " 8   over_time              1197 non-null   int64  \n",
      " 9   incentive              1197 non-null   int64  \n",
      " 10  idle_time              1197 non-null   float64\n",
      " 11  idle_men               1197 non-null   int64  \n",
      " 12  no_of_style_change     1197 non-null   int64  \n",
      " 13  no_of_workers          1197 non-null   float64\n",
      " 14  actual_productivity    1197 non-null   float64\n",
      "dtypes: float64(6), int64(5), object(4)\n",
      "memory usage: 140.4+ KB\n"
     ]
    }
   ],
   "source": [
    "#column information\n",
    "df.info()"
   ]
  },
  {
   "cell_type": "markdown",
   "metadata": {},
   "source": [
    "Looks like there's over 500 null values in column `wip`."
   ]
  },
  {
   "cell_type": "code",
   "execution_count": 34,
   "metadata": {},
   "outputs": [
    {
     "data": {
      "text/html": [
       "<div>\n",
       "<style scoped>\n",
       "    .dataframe tbody tr th:only-of-type {\n",
       "        vertical-align: middle;\n",
       "    }\n",
       "\n",
       "    .dataframe tbody tr th {\n",
       "        vertical-align: top;\n",
       "    }\n",
       "\n",
       "    .dataframe thead th {\n",
       "        text-align: right;\n",
       "    }\n",
       "</style>\n",
       "<table border=\"1\" class=\"dataframe\">\n",
       "  <thead>\n",
       "    <tr style=\"text-align: right;\">\n",
       "      <th></th>\n",
       "      <th>team</th>\n",
       "      <th>targeted_productivity</th>\n",
       "      <th>smv</th>\n",
       "      <th>wip</th>\n",
       "      <th>over_time</th>\n",
       "      <th>incentive</th>\n",
       "      <th>idle_time</th>\n",
       "      <th>idle_men</th>\n",
       "      <th>no_of_style_change</th>\n",
       "      <th>no_of_workers</th>\n",
       "      <th>actual_productivity</th>\n",
       "    </tr>\n",
       "  </thead>\n",
       "  <tbody>\n",
       "    <tr>\n",
       "      <th>count</th>\n",
       "      <td>1197.000000</td>\n",
       "      <td>1197.000000</td>\n",
       "      <td>1197.000000</td>\n",
       "      <td>691.000000</td>\n",
       "      <td>1197.000000</td>\n",
       "      <td>1197.000000</td>\n",
       "      <td>1197.000000</td>\n",
       "      <td>1197.000000</td>\n",
       "      <td>1197.000000</td>\n",
       "      <td>1197.000000</td>\n",
       "      <td>1197.000000</td>\n",
       "    </tr>\n",
       "    <tr>\n",
       "      <th>mean</th>\n",
       "      <td>6.426901</td>\n",
       "      <td>0.729632</td>\n",
       "      <td>15.062172</td>\n",
       "      <td>1190.465991</td>\n",
       "      <td>4567.460317</td>\n",
       "      <td>38.210526</td>\n",
       "      <td>0.730159</td>\n",
       "      <td>0.369256</td>\n",
       "      <td>0.150376</td>\n",
       "      <td>34.609858</td>\n",
       "      <td>0.735091</td>\n",
       "    </tr>\n",
       "    <tr>\n",
       "      <th>std</th>\n",
       "      <td>3.463963</td>\n",
       "      <td>0.097891</td>\n",
       "      <td>10.943219</td>\n",
       "      <td>1837.455001</td>\n",
       "      <td>3348.823563</td>\n",
       "      <td>160.182643</td>\n",
       "      <td>12.709757</td>\n",
       "      <td>3.268987</td>\n",
       "      <td>0.427848</td>\n",
       "      <td>22.197687</td>\n",
       "      <td>0.174488</td>\n",
       "    </tr>\n",
       "    <tr>\n",
       "      <th>min</th>\n",
       "      <td>1.000000</td>\n",
       "      <td>0.070000</td>\n",
       "      <td>2.900000</td>\n",
       "      <td>7.000000</td>\n",
       "      <td>0.000000</td>\n",
       "      <td>0.000000</td>\n",
       "      <td>0.000000</td>\n",
       "      <td>0.000000</td>\n",
       "      <td>0.000000</td>\n",
       "      <td>2.000000</td>\n",
       "      <td>0.233705</td>\n",
       "    </tr>\n",
       "    <tr>\n",
       "      <th>25%</th>\n",
       "      <td>3.000000</td>\n",
       "      <td>0.700000</td>\n",
       "      <td>3.940000</td>\n",
       "      <td>774.500000</td>\n",
       "      <td>1440.000000</td>\n",
       "      <td>0.000000</td>\n",
       "      <td>0.000000</td>\n",
       "      <td>0.000000</td>\n",
       "      <td>0.000000</td>\n",
       "      <td>9.000000</td>\n",
       "      <td>0.650307</td>\n",
       "    </tr>\n",
       "    <tr>\n",
       "      <th>50%</th>\n",
       "      <td>6.000000</td>\n",
       "      <td>0.750000</td>\n",
       "      <td>15.260000</td>\n",
       "      <td>1039.000000</td>\n",
       "      <td>3960.000000</td>\n",
       "      <td>0.000000</td>\n",
       "      <td>0.000000</td>\n",
       "      <td>0.000000</td>\n",
       "      <td>0.000000</td>\n",
       "      <td>34.000000</td>\n",
       "      <td>0.773333</td>\n",
       "    </tr>\n",
       "    <tr>\n",
       "      <th>75%</th>\n",
       "      <td>9.000000</td>\n",
       "      <td>0.800000</td>\n",
       "      <td>24.260000</td>\n",
       "      <td>1252.500000</td>\n",
       "      <td>6960.000000</td>\n",
       "      <td>50.000000</td>\n",
       "      <td>0.000000</td>\n",
       "      <td>0.000000</td>\n",
       "      <td>0.000000</td>\n",
       "      <td>57.000000</td>\n",
       "      <td>0.850253</td>\n",
       "    </tr>\n",
       "    <tr>\n",
       "      <th>max</th>\n",
       "      <td>12.000000</td>\n",
       "      <td>0.800000</td>\n",
       "      <td>54.560000</td>\n",
       "      <td>23122.000000</td>\n",
       "      <td>25920.000000</td>\n",
       "      <td>3600.000000</td>\n",
       "      <td>300.000000</td>\n",
       "      <td>45.000000</td>\n",
       "      <td>2.000000</td>\n",
       "      <td>89.000000</td>\n",
       "      <td>1.120437</td>\n",
       "    </tr>\n",
       "  </tbody>\n",
       "</table>\n",
       "</div>"
      ],
      "text/plain": [
       "              team  targeted_productivity          smv           wip  \\\n",
       "count  1197.000000            1197.000000  1197.000000    691.000000   \n",
       "mean      6.426901               0.729632    15.062172   1190.465991   \n",
       "std       3.463963               0.097891    10.943219   1837.455001   \n",
       "min       1.000000               0.070000     2.900000      7.000000   \n",
       "25%       3.000000               0.700000     3.940000    774.500000   \n",
       "50%       6.000000               0.750000    15.260000   1039.000000   \n",
       "75%       9.000000               0.800000    24.260000   1252.500000   \n",
       "max      12.000000               0.800000    54.560000  23122.000000   \n",
       "\n",
       "          over_time    incentive    idle_time     idle_men  \\\n",
       "count   1197.000000  1197.000000  1197.000000  1197.000000   \n",
       "mean    4567.460317    38.210526     0.730159     0.369256   \n",
       "std     3348.823563   160.182643    12.709757     3.268987   \n",
       "min        0.000000     0.000000     0.000000     0.000000   \n",
       "25%     1440.000000     0.000000     0.000000     0.000000   \n",
       "50%     3960.000000     0.000000     0.000000     0.000000   \n",
       "75%     6960.000000    50.000000     0.000000     0.000000   \n",
       "max    25920.000000  3600.000000   300.000000    45.000000   \n",
       "\n",
       "       no_of_style_change  no_of_workers  actual_productivity  \n",
       "count         1197.000000    1197.000000          1197.000000  \n",
       "mean             0.150376      34.609858             0.735091  \n",
       "std              0.427848      22.197687             0.174488  \n",
       "min              0.000000       2.000000             0.233705  \n",
       "25%              0.000000       9.000000             0.650307  \n",
       "50%              0.000000      34.000000             0.773333  \n",
       "75%              0.000000      57.000000             0.850253  \n",
       "max              2.000000      89.000000             1.120437  "
      ]
     },
     "execution_count": 34,
     "metadata": {},
     "output_type": "execute_result"
    }
   ],
   "source": [
    "#basic statistics of dataset\n",
    "df.describe()"
   ]
  },
  {
   "cell_type": "markdown",
   "metadata": {},
   "source": [
    "#### `date`"
   ]
  },
  {
   "cell_type": "code",
   "execution_count": 99,
   "metadata": {},
   "outputs": [
    {
     "data": {
      "text/plain": [
       "date\n",
       "1/1/2015     19\n",
       "1/3/2015     21\n",
       "1/4/2015     21\n",
       "1/5/2015     22\n",
       "1/6/2015     21\n",
       "1/7/2015     22\n",
       "1/8/2015     22\n",
       "1/10/2015    22\n",
       "1/11/2015    23\n",
       "1/12/2015    23\n",
       "1/13/2015    22\n",
       "1/14/2015    21\n",
       "1/15/2015    19\n",
       "1/17/2015    21\n",
       "1/18/2015    19\n",
       "1/19/2015    19\n",
       "1/20/2015    15\n",
       "1/21/2015    19\n",
       "1/22/2015    22\n",
       "1/24/2015    23\n",
       "1/25/2015    21\n",
       "1/26/2015    19\n",
       "1/27/2015    21\n",
       "1/28/2015    21\n",
       "1/29/2015    20\n",
       "1/31/2015    24\n",
       "2/1/2015     19\n",
       "2/2/2015     19\n",
       "2/3/2015     19\n",
       "2/4/2015     19\n",
       "2/5/2015     18\n",
       "2/7/2015     19\n",
       "2/8/2015     19\n",
       "2/9/2015     18\n",
       "2/10/2015    19\n",
       "2/11/2015    19\n",
       "2/12/2015    19\n",
       "2/14/2015    17\n",
       "2/15/2015    19\n",
       "2/16/2015    18\n",
       "2/17/2015    20\n",
       "2/18/2015    21\n",
       "2/19/2015    20\n",
       "2/22/2015    20\n",
       "2/23/2015    19\n",
       "2/24/2015    19\n",
       "2/25/2015    21\n",
       "2/26/2015    21\n",
       "2/28/2015    21\n",
       "3/1/2015     20\n",
       "3/2/2015     20\n",
       "3/3/2015     22\n",
       "3/4/2015     21\n",
       "3/5/2015     19\n",
       "3/7/2015     19\n",
       "3/8/2015     22\n",
       "3/9/2015     22\n",
       "3/10/2015    23\n",
       "3/11/2015    24\n",
       "Name: count, dtype: int64"
      ]
     },
     "execution_count": 99,
     "metadata": {},
     "output_type": "execute_result"
    }
   ],
   "source": [
    "df['date'].value_counts(sort=False)"
   ]
  },
  {
   "cell_type": "code",
   "execution_count": 101,
   "metadata": {},
   "outputs": [
    {
     "data": {
      "text/plain": [
       "1192    3/11/2015\n",
       "1193    3/11/2015\n",
       "1194    3/11/2015\n",
       "1195    3/11/2015\n",
       "1196    3/11/2015\n",
       "Name: date, dtype: object"
      ]
     },
     "execution_count": 101,
     "metadata": {},
     "output_type": "execute_result"
    }
   ],
   "source": [
    "df['date'].tail()"
   ]
  },
  {
   "cell_type": "markdown",
   "metadata": {},
   "source": []
  },
  {
   "cell_type": "markdown",
   "metadata": {},
   "source": [
    "The values in `date` are all in 2015 and span the first day of year up through March 11."
   ]
  },
  {
   "cell_type": "markdown",
   "metadata": {},
   "source": [
    "#### Categorical "
   ]
  },
  {
   "cell_type": "code",
   "execution_count": 110,
   "metadata": {},
   "outputs": [
    {
     "name": "stderr",
     "output_type": "stream",
     "text": [
      "c:\\Users\\cisco\\anaconda3\\envs\\env_3_10_8\\lib\\site-packages\\seaborn\\_oldcore.py:1498: FutureWarning: is_categorical_dtype is deprecated and will be removed in a future version. Use isinstance(dtype, CategoricalDtype) instead\n",
      "  if pd.api.types.is_categorical_dtype(vector):\n",
      "c:\\Users\\cisco\\anaconda3\\envs\\env_3_10_8\\lib\\site-packages\\seaborn\\_oldcore.py:1498: FutureWarning: is_categorical_dtype is deprecated and will be removed in a future version. Use isinstance(dtype, CategoricalDtype) instead\n",
      "  if pd.api.types.is_categorical_dtype(vector):\n",
      "c:\\Users\\cisco\\anaconda3\\envs\\env_3_10_8\\lib\\site-packages\\seaborn\\_oldcore.py:1498: FutureWarning: is_categorical_dtype is deprecated and will be removed in a future version. Use isinstance(dtype, CategoricalDtype) instead\n",
      "  if pd.api.types.is_categorical_dtype(vector):\n",
      "c:\\Users\\cisco\\anaconda3\\envs\\env_3_10_8\\lib\\site-packages\\seaborn\\_oldcore.py:1498: FutureWarning: is_categorical_dtype is deprecated and will be removed in a future version. Use isinstance(dtype, CategoricalDtype) instead\n",
      "  if pd.api.types.is_categorical_dtype(vector):\n",
      "c:\\Users\\cisco\\anaconda3\\envs\\env_3_10_8\\lib\\site-packages\\seaborn\\_oldcore.py:1498: FutureWarning: is_categorical_dtype is deprecated and will be removed in a future version. Use isinstance(dtype, CategoricalDtype) instead\n",
      "  if pd.api.types.is_categorical_dtype(vector):\n",
      "c:\\Users\\cisco\\anaconda3\\envs\\env_3_10_8\\lib\\site-packages\\seaborn\\_oldcore.py:1498: FutureWarning: is_categorical_dtype is deprecated and will be removed in a future version. Use isinstance(dtype, CategoricalDtype) instead\n",
      "  if pd.api.types.is_categorical_dtype(vector):\n",
      "c:\\Users\\cisco\\anaconda3\\envs\\env_3_10_8\\lib\\site-packages\\seaborn\\_oldcore.py:1498: FutureWarning: is_categorical_dtype is deprecated and will be removed in a future version. Use isinstance(dtype, CategoricalDtype) instead\n",
      "  if pd.api.types.is_categorical_dtype(vector):\n",
      "c:\\Users\\cisco\\anaconda3\\envs\\env_3_10_8\\lib\\site-packages\\seaborn\\_oldcore.py:1498: FutureWarning: is_categorical_dtype is deprecated and will be removed in a future version. Use isinstance(dtype, CategoricalDtype) instead\n",
      "  if pd.api.types.is_categorical_dtype(vector):\n",
      "c:\\Users\\cisco\\anaconda3\\envs\\env_3_10_8\\lib\\site-packages\\seaborn\\_oldcore.py:1498: FutureWarning: is_categorical_dtype is deprecated and will be removed in a future version. Use isinstance(dtype, CategoricalDtype) instead\n",
      "  if pd.api.types.is_categorical_dtype(vector):\n",
      "c:\\Users\\cisco\\anaconda3\\envs\\env_3_10_8\\lib\\site-packages\\seaborn\\_oldcore.py:1498: FutureWarning: is_categorical_dtype is deprecated and will be removed in a future version. Use isinstance(dtype, CategoricalDtype) instead\n",
      "  if pd.api.types.is_categorical_dtype(vector):\n",
      "c:\\Users\\cisco\\anaconda3\\envs\\env_3_10_8\\lib\\site-packages\\seaborn\\_oldcore.py:1498: FutureWarning: is_categorical_dtype is deprecated and will be removed in a future version. Use isinstance(dtype, CategoricalDtype) instead\n",
      "  if pd.api.types.is_categorical_dtype(vector):\n",
      "c:\\Users\\cisco\\anaconda3\\envs\\env_3_10_8\\lib\\site-packages\\seaborn\\_oldcore.py:1498: FutureWarning: is_categorical_dtype is deprecated and will be removed in a future version. Use isinstance(dtype, CategoricalDtype) instead\n",
      "  if pd.api.types.is_categorical_dtype(vector):\n"
     ]
    },
    {
     "data": {
      "image/png": "[encoded data removed]",
      "text/plain": [
       "<Figure size 1200x1000 with 4 Axes>"
      ]
     },
     "metadata": {},
     "output_type": "display_data"
    }
   ],
   "source": [
    "cat_cols = ['quarter', 'department', 'day',\t'team']\n",
    "\n",
    "fig = plt.figure(figsize=(12,10))\n",
    "\n",
    "for idx, col in enumerate(cat_cols):\n",
    "    ax = plt.subplot(2, 2, idx+1)\n",
    "    sns.countplot(x=df[col], ax=ax)\n",
    "    #add data label to each bar\n",
    "    for container in ax.containers:\n",
    "        ax.bar_label(container, label_type='center')"
   ]
  },
  {
   "cell_type": "markdown",
   "metadata": {},
   "source": [
    "There looks to be some misspellings in `department`."
   ]
  },
  {
   "cell_type": "code",
   "execution_count": 106,
   "metadata": {},
   "outputs": [
    {
     "data": {
      "text/plain": [
       "array(['sweing', 'finishing ', 'finishing'], dtype=object)"
      ]
     },
     "execution_count": 106,
     "metadata": {},
     "output_type": "execute_result"
    }
   ],
   "source": [
    "# identifying department values\n",
    "df['department'].unique()"
   ]
  },
  {
   "cell_type": "markdown",
   "metadata": {},
   "source": [
    "There's really only two departments in the dataset: sewing and finishing. Sewing has been misspelled as `sweing` and `finishing` has been split in two thanks to an extra space character."
   ]
  },
  {
   "cell_type": "markdown",
   "metadata": {},
   "source": [
    "#### Numeric Columns\n"
   ]
  },
  {
   "cell_type": "code",
   "execution_count": 111,
   "metadata": {},
   "outputs": [],
   "source": [
    "num_cols = ['targeted_productivity', 'smv', 'wip', 'over_time', 'incentive', 'idle_time', 'idle_men', 'no_of_style_change', 'no_of_workers', 'actual_productivity']"
   ]
  },
  {
   "cell_type": "code",
   "execution_count": 75,
   "metadata": {},
   "outputs": [
    {
     "data": {
      "text/plain": [
       "wip\n",
       "NaN       496\n",
       "834.0       2\n",
       "708.0       2\n",
       "726.0       1\n",
       "1116.0      1\n",
       "         ... \n",
       "1167.0      1\n",
       "1608.0      1\n",
       "557.0       1\n",
       "326.0       1\n",
       "1161.0      1\n",
       "Name: count, Length: 107, dtype: int64"
      ]
     },
     "execution_count": 75,
     "metadata": {},
     "output_type": "execute_result"
    }
   ],
   "source": [
    "# comparing wip with incentive\n",
    "df[df['incentive'] == 0]['wip'].value_counts(dropna=False)"
   ]
  },
  {
   "cell_type": "markdown",
   "metadata": {},
   "source": [
    "Of the instances where `incentive` is `0`, `wip` is `NaN`, or, otherwise also 0. There might end up being a strong correlation between the two if we can adjust the `NaN` values. "
   ]
  },
  {
   "cell_type": "code",
   "execution_count": 50,
   "metadata": {},
   "outputs": [
    {
     "data": {
      "text/plain": [
       "no_of_style_change\n",
       "0    1050\n",
       "1     114\n",
       "2      33\n",
       "Name: count, dtype: int64"
      ]
     },
     "execution_count": 50,
     "metadata": {},
     "output_type": "execute_result"
    }
   ],
   "source": [
    "df['no_of_style_change'].value_counts()"
   ]
  },
  {
   "cell_type": "code",
   "execution_count": 53,
   "metadata": {},
   "outputs": [
    {
     "data": {
      "text/plain": [
       "(0.232, 0.308]     30\n",
       "(0.308, 0.381]     43\n",
       "(0.381, 0.455]     39\n",
       "(0.455, 0.529]     50\n",
       "(0.529, 0.603]     81\n",
       "(0.603, 0.677]     99\n",
       "(0.677, 0.751]    235\n",
       "(0.751, 0.825]    276\n",
       "(0.825, 0.899]    136\n",
       "(0.899, 0.973]    145\n",
       "(0.973, 1.047]     55\n",
       "(1.047, 1.12]       8\n",
       "Name: count, dtype: int64"
      ]
     },
     "execution_count": 53,
     "metadata": {},
     "output_type": "execute_result"
    }
   ],
   "source": [
    "df['actual_productivity'].value_counts(bins=12, sort=False)"
   ]
  },
  {
   "cell_type": "markdown",
   "metadata": {},
   "source": [
    "#### `day`\n",
    "\n",
    "These values are simply the day of the week."
   ]
  },
  {
   "cell_type": "code",
   "execution_count": 102,
   "metadata": {},
   "outputs": [
    {
     "data": {
      "text/plain": [
       "day\n",
       "Wednesday    208\n",
       "Sunday       203\n",
       "Tuesday      201\n",
       "Thursday     199\n",
       "Monday       199\n",
       "Saturday     187\n",
       "Name: count, dtype: int64"
      ]
     },
     "execution_count": 102,
     "metadata": {},
     "output_type": "execute_result"
    }
   ],
   "source": [
    "df['day'].value_counts()"
   ]
  },
  {
   "cell_type": "markdown",
   "metadata": {},
   "source": [
    "We can see here that work took place from Saturday to Thursday."
   ]
  },
  {
   "cell_type": "markdown",
   "metadata": {},
   "source": [
    " #### Exploratory Data Analysis - Summary\n",
    " Many of the columns in the dataset were imported into our workspace appropriately, but some others might need more attention and even some clean-up.\n",
    " - `date`\n",
    "    - Could change its current `object` (string) data type to `datetime`\n",
    "- `quarter`\n",
    "    - Could be changed from `object` (string) to an integer\n",
    "- `department`\n",
    "    - typos present for both departments (sewing and finishing)\n",
    "- `day`\n",
    "     - could benefit from change of `object` (string) to an integer \n",
    "- `team`\n",
    "    - 1197 non-null   int64  \n",
    " 5   targeted_productivity  1197 non-null   float64\n",
    " 6   smv                    1197 non-null   float64\n",
    " - `wip`\n",
    "     - has over 500 null values\n",
    " 8   over_time              1197 non-null   int64  \n",
    " 9   incentive              1197 non-null   int64  \n",
    " 10  idle_time              1197 non-null   float64\n",
    " 11  idle_men               1197 non-null   int64  \n",
    " 12  no_of_style_change     1197 non-null   int64  \n",
    "- `no_of_workers`\n",
    "    - There's isn't much of a reason why this column's data type should be `float64`\n",
    "      actual_productivity    1197 non-null   float64"
   ]
  },
  {
   "cell_type": "code",
   "execution_count": 35,
   "metadata": {},
   "outputs": [
    {
     "data": {
      "text/plain": [
       "idle_time  idle_men\n",
       "0.0        0           1179\n",
       "2.0        10             2\n",
       "3.5        15             2\n",
       "8.0        35             2\n",
       "3.5        20             1\n",
       "4.0        20             1\n",
       "           40             1\n",
       "4.5        25             1\n",
       "           30             1\n",
       "5.0        20             1\n",
       "           30             1\n",
       "6.5        30             1\n",
       "90.0       10             1\n",
       "150.0      15             1\n",
       "270.0      45             1\n",
       "300.0      37             1\n",
       "dtype: int64"
      ]
     },
     "execution_count": 35,
     "metadata": {},
     "output_type": "execute_result"
    }
   ],
   "source": [
    "df[['idle_time', 'idle_men']].value_counts()"
   ]
  },
  {
   "cell_type": "code",
   "execution_count": 36,
   "metadata": {},
   "outputs": [
    {
     "data": {
      "text/html": [
       "<div>\n",
       "<style scoped>\n",
       "    .dataframe tbody tr th:only-of-type {\n",
       "        vertical-align: middle;\n",
       "    }\n",
       "\n",
       "    .dataframe tbody tr th {\n",
       "        vertical-align: top;\n",
       "    }\n",
       "\n",
       "    .dataframe thead th {\n",
       "        text-align: right;\n",
       "    }\n",
       "</style>\n",
       "<table border=\"1\" class=\"dataframe\">\n",
       "  <thead>\n",
       "    <tr style=\"text-align: right;\">\n",
       "      <th></th>\n",
       "      <th>date</th>\n",
       "      <th>quarter</th>\n",
       "      <th>department</th>\n",
       "      <th>day</th>\n",
       "      <th>team</th>\n",
       "      <th>targeted_productivity</th>\n",
       "      <th>smv</th>\n",
       "      <th>wip</th>\n",
       "      <th>over_time</th>\n",
       "      <th>incentive</th>\n",
       "      <th>idle_time</th>\n",
       "      <th>idle_men</th>\n",
       "      <th>no_of_style_change</th>\n",
       "      <th>no_of_workers</th>\n",
       "      <th>actual_productivity</th>\n",
       "    </tr>\n",
       "  </thead>\n",
       "  <tbody>\n",
       "    <tr>\n",
       "      <th>650</th>\n",
       "      <td>2/7/2015</td>\n",
       "      <td>Quarter1</td>\n",
       "      <td>sweing</td>\n",
       "      <td>Saturday</td>\n",
       "      <td>7</td>\n",
       "      <td>0.7</td>\n",
       "      <td>24.26</td>\n",
       "      <td>658.0</td>\n",
       "      <td>6960</td>\n",
       "      <td>0</td>\n",
       "      <td>270.0</td>\n",
       "      <td>45</td>\n",
       "      <td>0</td>\n",
       "      <td>58.0</td>\n",
       "      <td>0.66227</td>\n",
       "    </tr>\n",
       "  </tbody>\n",
       "</table>\n",
       "</div>"
      ],
      "text/plain": [
       "         date   quarter department       day  team  targeted_productivity  \\\n",
       "650  2/7/2015  Quarter1     sweing  Saturday     7                    0.7   \n",
       "\n",
       "       smv    wip  over_time  incentive  idle_time  idle_men  \\\n",
       "650  24.26  658.0       6960          0      270.0        45   \n",
       "\n",
       "     no_of_style_change  no_of_workers  actual_productivity  \n",
       "650                   0           58.0              0.66227  "
      ]
     },
     "execution_count": 36,
     "metadata": {},
     "output_type": "execute_result"
    }
   ],
   "source": [
    "df[df['idle_time'] == 270.0]"
   ]
  },
  {
   "cell_type": "code",
   "execution_count": 37,
   "metadata": {},
   "outputs": [
    {
     "data": {
      "text/plain": [
       "0.0      1179\n",
       "3.5         3\n",
       "2.0         2\n",
       "5.0         2\n",
       "8.0         2\n",
       "4.5         2\n",
       "4.0         2\n",
       "90.0        1\n",
       "150.0       1\n",
       "270.0       1\n",
       "300.0       1\n",
       "6.5         1\n",
       "Name: idle_time, dtype: int64"
      ]
     },
     "execution_count": 37,
     "metadata": {},
     "output_type": "execute_result"
    }
   ],
   "source": [
    "df['idle_time'].value_counts()"
   ]
  },
  {
   "cell_type": "code",
   "execution_count": 38,
   "metadata": {},
   "outputs": [
    {
     "data": {
      "text/plain": [
       "0     1179\n",
       "10       3\n",
       "15       3\n",
       "30       3\n",
       "20       3\n",
       "35       2\n",
       "45       1\n",
       "37       1\n",
       "25       1\n",
       "40       1\n",
       "Name: idle_men, dtype: int64"
      ]
     },
     "execution_count": 38,
     "metadata": {},
     "output_type": "execute_result"
    }
   ],
   "source": [
    "df['idle_men'].value_counts()"
   ]
  },
  {
   "cell_type": "code",
   "execution_count": 39,
   "metadata": {},
   "outputs": [
    {
     "data": {
      "text/html": [
       "<div>\n",
       "<style scoped>\n",
       "    .dataframe tbody tr th:only-of-type {\n",
       "        vertical-align: middle;\n",
       "    }\n",
       "\n",
       "    .dataframe tbody tr th {\n",
       "        vertical-align: top;\n",
       "    }\n",
       "\n",
       "    .dataframe thead th {\n",
       "        text-align: right;\n",
       "    }\n",
       "</style>\n",
       "<table border=\"1\" class=\"dataframe\">\n",
       "  <thead>\n",
       "    <tr style=\"text-align: right;\">\n",
       "      <th></th>\n",
       "      <th>team</th>\n",
       "      <th>targeted_productivity</th>\n",
       "      <th>smv</th>\n",
       "      <th>wip</th>\n",
       "      <th>over_time</th>\n",
       "      <th>incentive</th>\n",
       "      <th>idle_time</th>\n",
       "      <th>idle_men</th>\n",
       "      <th>no_of_style_change</th>\n",
       "      <th>no_of_workers</th>\n",
       "      <th>actual_productivity</th>\n",
       "    </tr>\n",
       "  </thead>\n",
       "  <tbody>\n",
       "    <tr>\n",
       "      <th>team</th>\n",
       "      <td>1.000000</td>\n",
       "      <td>0.030274</td>\n",
       "      <td>-0.110011</td>\n",
       "      <td>-0.033474</td>\n",
       "      <td>-0.096737</td>\n",
       "      <td>-0.007674</td>\n",
       "      <td>0.003796</td>\n",
       "      <td>0.026974</td>\n",
       "      <td>-0.011194</td>\n",
       "      <td>-0.075113</td>\n",
       "      <td>-0.148753</td>\n",
       "    </tr>\n",
       "    <tr>\n",
       "      <th>targeted_productivity</th>\n",
       "      <td>0.030274</td>\n",
       "      <td>1.000000</td>\n",
       "      <td>-0.069489</td>\n",
       "      <td>0.062054</td>\n",
       "      <td>-0.088557</td>\n",
       "      <td>0.032768</td>\n",
       "      <td>-0.056181</td>\n",
       "      <td>-0.053818</td>\n",
       "      <td>-0.209294</td>\n",
       "      <td>-0.084288</td>\n",
       "      <td>0.421594</td>\n",
       "    </tr>\n",
       "    <tr>\n",
       "      <th>smv</th>\n",
       "      <td>-0.110011</td>\n",
       "      <td>-0.069489</td>\n",
       "      <td>1.000000</td>\n",
       "      <td>-0.037837</td>\n",
       "      <td>0.674887</td>\n",
       "      <td>0.032629</td>\n",
       "      <td>0.056863</td>\n",
       "      <td>0.105901</td>\n",
       "      <td>0.315388</td>\n",
       "      <td>0.912176</td>\n",
       "      <td>-0.122089</td>\n",
       "    </tr>\n",
       "    <tr>\n",
       "      <th>wip</th>\n",
       "      <td>-0.033474</td>\n",
       "      <td>0.062054</td>\n",
       "      <td>-0.037837</td>\n",
       "      <td>1.000000</td>\n",
       "      <td>0.022302</td>\n",
       "      <td>0.167210</td>\n",
       "      <td>-0.026299</td>\n",
       "      <td>-0.048718</td>\n",
       "      <td>-0.072357</td>\n",
       "      <td>0.030383</td>\n",
       "      <td>0.131147</td>\n",
       "    </tr>\n",
       "    <tr>\n",
       "      <th>over_time</th>\n",
       "      <td>-0.096737</td>\n",
       "      <td>-0.088557</td>\n",
       "      <td>0.674887</td>\n",
       "      <td>0.022302</td>\n",
       "      <td>1.000000</td>\n",
       "      <td>-0.004793</td>\n",
       "      <td>0.031038</td>\n",
       "      <td>-0.017913</td>\n",
       "      <td>0.059790</td>\n",
       "      <td>0.734164</td>\n",
       "      <td>-0.054206</td>\n",
       "    </tr>\n",
       "    <tr>\n",
       "      <th>incentive</th>\n",
       "      <td>-0.007674</td>\n",
       "      <td>0.032768</td>\n",
       "      <td>0.032629</td>\n",
       "      <td>0.167210</td>\n",
       "      <td>-0.004793</td>\n",
       "      <td>1.000000</td>\n",
       "      <td>-0.012024</td>\n",
       "      <td>-0.021140</td>\n",
       "      <td>-0.026607</td>\n",
       "      <td>0.049222</td>\n",
       "      <td>0.076538</td>\n",
       "    </tr>\n",
       "    <tr>\n",
       "      <th>idle_time</th>\n",
       "      <td>0.003796</td>\n",
       "      <td>-0.056181</td>\n",
       "      <td>0.056863</td>\n",
       "      <td>-0.026299</td>\n",
       "      <td>0.031038</td>\n",
       "      <td>-0.012024</td>\n",
       "      <td>1.000000</td>\n",
       "      <td>0.559146</td>\n",
       "      <td>-0.011598</td>\n",
       "      <td>0.058049</td>\n",
       "      <td>-0.080851</td>\n",
       "    </tr>\n",
       "    <tr>\n",
       "      <th>idle_men</th>\n",
       "      <td>0.026974</td>\n",
       "      <td>-0.053818</td>\n",
       "      <td>0.105901</td>\n",
       "      <td>-0.048718</td>\n",
       "      <td>-0.017913</td>\n",
       "      <td>-0.021140</td>\n",
       "      <td>0.559146</td>\n",
       "      <td>1.000000</td>\n",
       "      <td>0.133632</td>\n",
       "      <td>0.106946</td>\n",
       "      <td>-0.181734</td>\n",
       "    </tr>\n",
       "    <tr>\n",
       "      <th>no_of_style_change</th>\n",
       "      <td>-0.011194</td>\n",
       "      <td>-0.209294</td>\n",
       "      <td>0.315388</td>\n",
       "      <td>-0.072357</td>\n",
       "      <td>0.059790</td>\n",
       "      <td>-0.026607</td>\n",
       "      <td>-0.011598</td>\n",
       "      <td>0.133632</td>\n",
       "      <td>1.000000</td>\n",
       "      <td>0.327787</td>\n",
       "      <td>-0.207366</td>\n",
       "    </tr>\n",
       "    <tr>\n",
       "      <th>no_of_workers</th>\n",
       "      <td>-0.075113</td>\n",
       "      <td>-0.084288</td>\n",
       "      <td>0.912176</td>\n",
       "      <td>0.030383</td>\n",
       "      <td>0.734164</td>\n",
       "      <td>0.049222</td>\n",
       "      <td>0.058049</td>\n",
       "      <td>0.106946</td>\n",
       "      <td>0.327787</td>\n",
       "      <td>1.000000</td>\n",
       "      <td>-0.057991</td>\n",
       "    </tr>\n",
       "    <tr>\n",
       "      <th>actual_productivity</th>\n",
       "      <td>-0.148753</td>\n",
       "      <td>0.421594</td>\n",
       "      <td>-0.122089</td>\n",
       "      <td>0.131147</td>\n",
       "      <td>-0.054206</td>\n",
       "      <td>0.076538</td>\n",
       "      <td>-0.080851</td>\n",
       "      <td>-0.181734</td>\n",
       "      <td>-0.207366</td>\n",
       "      <td>-0.057991</td>\n",
       "      <td>1.000000</td>\n",
       "    </tr>\n",
       "  </tbody>\n",
       "</table>\n",
       "</div>"
      ],
      "text/plain": [
       "                           team  targeted_productivity       smv       wip  \\\n",
       "team                   1.000000               0.030274 -0.110011 -0.033474   \n",
       "targeted_productivity  0.030274               1.000000 -0.069489  0.062054   \n",
       "smv                   -0.110011              -0.069489  1.000000 -0.037837   \n",
       "wip                   -0.033474               0.062054 -0.037837  1.000000   \n",
       "over_time             -0.096737              -0.088557  0.674887  0.022302   \n",
       "incentive             -0.007674               0.032768  0.032629  0.167210   \n",
       "idle_time              0.003796              -0.056181  0.056863 -0.026299   \n",
       "idle_men               0.026974              -0.053818  0.105901 -0.048718   \n",
       "no_of_style_change    -0.011194              -0.209294  0.315388 -0.072357   \n",
       "no_of_workers         -0.075113              -0.084288  0.912176  0.030383   \n",
       "actual_productivity   -0.148753               0.421594 -0.122089  0.131147   \n",
       "\n",
       "                       over_time  incentive  idle_time  idle_men  \\\n",
       "team                   -0.096737  -0.007674   0.003796  0.026974   \n",
       "targeted_productivity  -0.088557   0.032768  -0.056181 -0.053818   \n",
       "smv                     0.674887   0.032629   0.056863  0.105901   \n",
       "wip                     0.022302   0.167210  -0.026299 -0.048718   \n",
       "over_time               1.000000  -0.004793   0.031038 -0.017913   \n",
       "incentive              -0.004793   1.000000  -0.012024 -0.021140   \n",
       "idle_time               0.031038  -0.012024   1.000000  0.559146   \n",
       "idle_men               -0.017913  -0.021140   0.559146  1.000000   \n",
       "no_of_style_change      0.059790  -0.026607  -0.011598  0.133632   \n",
       "no_of_workers           0.734164   0.049222   0.058049  0.106946   \n",
       "actual_productivity    -0.054206   0.076538  -0.080851 -0.181734   \n",
       "\n",
       "                       no_of_style_change  no_of_workers  actual_productivity  \n",
       "team                            -0.011194      -0.075113            -0.148753  \n",
       "targeted_productivity           -0.209294      -0.084288             0.421594  \n",
       "smv                              0.315388       0.912176            -0.122089  \n",
       "wip                             -0.072357       0.030383             0.131147  \n",
       "over_time                        0.059790       0.734164            -0.054206  \n",
       "incentive                       -0.026607       0.049222             0.076538  \n",
       "idle_time                       -0.011598       0.058049            -0.080851  \n",
       "idle_men                         0.133632       0.106946            -0.181734  \n",
       "no_of_style_change               1.000000       0.327787            -0.207366  \n",
       "no_of_workers                    0.327787       1.000000            -0.057991  \n",
       "actual_productivity             -0.207366      -0.057991             1.000000  "
      ]
     },
     "execution_count": 39,
     "metadata": {},
     "output_type": "execute_result"
    }
   ],
   "source": [
    "df.corr()"
   ]
  },
  {
   "cell_type": "code",
   "execution_count": 44,
   "metadata": {},
   "outputs": [
    {
     "data": {
      "text/plain": [
       "<AxesSubplot:>"
      ]
     },
     "execution_count": 44,
     "metadata": {},
     "output_type": "execute_result"
    },
    {
     "data": {
      "image/png": "[encoded data removed]",
      "text/plain": [
       "<Figure size 640x480 with 2 Axes>"
      ]
     },
     "metadata": {},
     "output_type": "display_data"
    }
   ],
   "source": [
    "sns.heatmap(df.corr())"
   ]
  },
  {
   "cell_type": "markdown",
   "metadata": {},
   "source": [
    "## Cleaning Up the Dataset\n",
    "\n",
    "1. `date`\n",
    "2. `department`\n"
   ]
  },
  {
   "cell_type": "markdown",
   "metadata": {},
   "source": []
  }
 ],
 "metadata": {
  "kernelspec": {
   "display_name": "Python 3 (ipykernel)",
   "language": "python",
   "name": "python3"
  },
  "language_info": {
   "codemirror_mode": {
    "name": "ipython",
    "version": 3
   },
   "file_extension": ".py",
   "mimetype": "text/x-python",
   "name": "python",
   "nbconvert_exporter": "python",
   "pygments_lexer": "ipython3",
   "version": "3.10.13"
  }
 },
 "nbformat": 4,
 "nbformat_minor": 4
}
